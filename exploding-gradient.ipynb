{
 "cells": [
  {
   "cell_type": "markdown",
   "metadata": {},
   "source": [
    "# Nuking the Gradient\n",
    "\n",
    "## Exploring why gradients explode with simple linear regression.\n",
    "\n",
    "In this notebook, we're going to do simple linear regression with gradient descent using 1000 data points taken from a known distribution. \n",
    "\n",
    "Because we're generating the data, we already know the relationship between the `x`-values and the `y`-values:\n",
    "\n",
    "$$y = 10 - x + \\epsilon$$\n",
    "\n",
    "where $\\epsilon$ is randomly selected from the standard normal distribution (with $\\mu = 0$ and $\\sigma = 1$), so we're not interested in getting gradient descent to <i>work</i>. In fact, we're interested in the exact opposite: under what conditions will it <i>not</i> work? In other words, we're going to poke the algorithm until the gradient explodes."
   ]
  },
  {
   "cell_type": "markdown",
   "metadata": {},
   "source": [
    "## Some EDA, just to confirm the relationship.\n",
    "\n",
    "Before diving into the gradient descent, I just want to show that the data is, in fact, very linear. First, a quick function for loading the data and returning it as an array of x-values and an array of y-values."
   ]
  },
  {
   "cell_type": "code",
   "execution_count": 1,
   "metadata": {},
   "outputs": [],
   "source": [
    "import pandas as pd\n",
    "import random\n",
    "\n",
    "def load_data():\n",
    "    df = pd.read_csv('data.csv', names=['x', 'y'])\n",
    "    return df.x, df.y"
   ]
  },
  {
   "cell_type": "markdown",
   "metadata": {},
   "source": [
    "Next, let's look at the data with a scatterplot."
   ]
  },
  {
   "cell_type": "code",
   "execution_count": 3,
   "metadata": {},
   "outputs": [
    {
     "data": {
      "image/png": "[encoded data removed]",
      "text/plain": [
       "<Figure size 648x360 with 1 Axes>"
      ]
     },
     "metadata": {
      "needs_background": "light"
     },
     "output_type": "display_data"
    }
   ],
   "source": [
    "import matplotlib.pyplot as plt\n",
    "\n",
    "x, y = load_data()\n",
    "plt.figure(figsize=(9,5))\n",
    "plt.scatter(x, y, s=10)\n",
    "plt.title('Synthetic Data');"
   ]
  },
  {
   "cell_type": "markdown",
   "metadata": {},
   "source": [
    "Okay, yeah, that's linear. That's super linear, actually. But just to make sure... let's compute the correlation coefficient and the formula of the least-squares regression line, juuuuust to be sure. And to respect the spirit of this post's DIY-ness, let's just go ahead do it all from scratch."
   ]
  },
  {
   "cell_type": "code",
   "execution_count": 2,
   "metadata": {},
   "outputs": [
    {
     "name": "stdout",
     "output_type": "stream",
     "text": [
      "-0.9466500112761806\n",
      "y = 10.061630757418902*x + -1.003707607875859\n"
     ]
    }
   ],
   "source": [
    "def mean(z):\n",
    "    return sum(z) / len(z)\n",
    "\n",
    "def std(z):\n",
    "    zbar = mean(z)\n",
    "    return (sum((zi - zbar)**2 for zi in z) / (len(z) - 1))**0.5\n",
    "\n",
    "def compute_r(x, y):\n",
    "    xbar = mean(x)\n",
    "    ybar = mean(y)\n",
    "    sx = std(x)\n",
    "    sy = std(y)\n",
    "    \n",
    "    return sum((xi - xbar) * (yi - ybar) / (sx * sy) for xi, yi in zip(x,y)) / (len(x) - 1)\n",
    "\n",
    "def least_squares_regression_line(x, y):\n",
    "    r = compute_r(x, y)\n",
    "    b = r * std(y) / std(x)\n",
    "    m = mean(y) - b * mean(x)\n",
    "    return m, b\n",
    "\n",
    "x, y = load_data()\n",
    "m, b = least_squares_regression_line(x,y)\n",
    "print(compute_r(x, y))\n",
    "print(f'y = {m}*x + {b}')"
   ]
  },
  {
   "cell_type": "markdown",
   "metadata": {},
   "source": [
    "Okay! Strong negative correlation (r = -.95), and we basically got back the original line (with reasonable error) when we looked at the least-squares formula. So that means gradient descent will work <i>perfectly</i>... right?\n",
    "\n",
    "Nope. Let's get to 'splodin."
   ]
  },
  {
   "cell_type": "markdown",
   "metadata": {},
   "source": [
    "## Stochastic Gradient Descent From Scratch\n",
    "\n",
    "In order to understand how <a href=\"https://en.wikipedia.org/wiki/Stochastic_gradient_descent\">Stochastic Gradient Descent (SGD)</a> goes wrong, we need to understand how it should, theoretically, go right.\n",
    "\n",
    "If you are not familiar with SGD, it's a version of gradient descent which can be less computationally intensive because we don't need to compute the loss function or gradient for the entire dataset. We work with just one observation at a time.\n",
    "\n",
    "### Definitions\n",
    "\n",
    "Our <b>model</b>, which is the function we're trying to find that will represent the data, has the form $y = mx + b$\n",
    "\n",
    "The <b>prediction</b> for an observation $(x_i, y_i)$ is $\\hat{y_i} = mx_i + b$\n",
    "\n",
    "The <b>loss function</b> we're using is $L(x_i, y_i) = (\\hat{y_i} - y_i)^2 = (m)$\n",
    "\n",
    "The <b>gradient of the loss function</b> consists of the partial derivatives of the loss function with respect to $m$ and $b$:\n",
    "\n",
    "$$L_m(x_i, y_i) = \\frac{\\partial{L}}{\\partial{m}} = 2x_i(mx_i + b - y_i) \\quad \\quad L_b(x_i, y_i) = \\frac{\\partial{L}}{\\partial{b}} = 2(mx_i + b - y_i)$$\n",
    "\n",
    "The <b>learning rate</b>, $\\eta$ (\"eta\") is a multiplier, generally between 0 and 1.\n",
    "\n",
    "1. Initialize $m$ and $b$ with arbitrary values. For reproducibility, these will not be random.\n",
    "2. Randomly select an observation $(x_i, y_i)$ from the dataset.\n",
    "3. Evaluate the partial derivatives (the gradient) at $(x_i, y_i)$: $L_m(x_i, y_i)$ and $L_b(x_i, y_i)$.\n",
    "4. Update $m$ and $b$ as follows: $m := m - \\eta L_m(x_i, y_i)$ and $b := b - \\eta L_b(x_i, y_i)$\n",
    "5. Repeat steps 2-4 until some halting criteria is met.\n",
    "\n",
    "The halting criteria in Step 5 depends on the circumstances. It can be, \"The algorithm has run through the data enough times for us,\" or \"the change in the coefficients is smaller than some threshold value.\"\n",
    "\n",
    "### Our Halting Criteria\n",
    "\n",
    "Since my goal here is to nuke this gradient from orbit, we're going to initialize both values at 1\n",
    "\n",
    "1. The values get close enough that we're happy with them. Let's just say that both $m$ and $b$ are within 1% of the actual value at the same time. That is, $9.9 < b < 10.1$ and $-1.01 < m < -.99$\n",
    "\n",
    "2. The gradient explodes. Since m = -1 and b = 10, let's define \"exploding\" as the absolute value of either $m$ or $b$ exceeding a very large number (like 1000000000000). Whereas in the first case, we wanted both values to be pretty close at the same time, I'm willing to say, \"If either the intercept or the slope gets so horrendously off-course that it could never possibly return to the right ballpark, let's call it a day.\""
   ]
  },
  {
   "cell_type": "markdown",
   "metadata": {},
   "source": [
    "## Building the Linear Model\n",
    "\n",
    "I'm a big fan of keeping things simple and readable in the places where they matter, and I want to keep the meat of this process clean and tidy. That means we need to do some organizing before we actually get to the exploding gradient.\n",
    "\n",
    "In order to keep the actual logic behind what we're doing as readable as possible, we'll take an object-oriented approach to this problem. This <em>is not intended</em> to be the most efficient solution to this problem, it isn't designed for use outside of this notebook (but feel free to, if you want to!), and it's completely for the sake of readability further down."
   ]
  },
  {
   "cell_type": "code",
   "execution_count": 3,
   "metadata": {},
   "outputs": [],
   "source": [
    "import random, math\n",
    "\n",
    "class LinearModel:\n",
    "    def __init__(self, m=None, b=None):\n",
    "        \"\"\"\n",
    "        Initializes the slope and y-intercept of the regression line with either default values\n",
    "        or the values that have been passed as arguments.\n",
    "        \n",
    "        Parameters\n",
    "        ---------\n",
    "        m (float):\n",
    "            an initial value for the slope\n",
    "        b (float):\n",
    "            an initial value for the y-intercept\n",
    "        \"\"\"\n",
    "        self.m = m or random.random()\n",
    "        self.b = b or random.random()\n",
    "        \n",
    "        # after each iteration, we'll add a dictionary containing the current values of to \n",
    "        # the history object, e.g. {'m':11.5, 'b':-3.42, 'loss':.25, 'gradient':(-1.2, 3.5)}\n",
    "        self.history = []\n",
    "   \n",
    "    def error(self, x=None, y=None):\n",
    "        \"\"\"\n",
    "        Returns the error of the observation (x,y) passed, computed as\n",
    "        self.\n",
    "        \n",
    "        Parameters\n",
    "        ----------\n",
    "        x (float):\n",
    "            the x-value of the observation\n",
    "        y (float):\n",
    "            the y-value of the observation\n",
    "        \"\"\"\n",
    "        return self.predict(x) - y\n",
    "    \n",
    "    def gradient(self, x, y):\n",
    "        \"\"\"\n",
    "        Computes the gradient of the loss function at this observation, computed as\n",
    "        \n",
    "        (x * (mx+b - y), (mx+b - y))\n",
    "        \n",
    "        Parameters\n",
    "        ----------\n",
    "        x (float): \n",
    "            the x-value of the observation where we want the gradient\n",
    "        y (float):\n",
    "            the y-value of the observation where we want the gradient\n",
    "            \n",
    "        Return\n",
    "        ------\n",
    "        A list containing ∂L/∂m, ∂L/∂b\n",
    "        \"\"\"\n",
    "        return x * self.error(x,y), self.error(x,y)\n",
    "    \n",
    "    def loss(self, x, y):\n",
    "        \"\"\"\n",
    "        Computes the loss, which is (mx+b - y)^2\n",
    "        \n",
    "        Parameters\n",
    "        ----------\n",
    "        x (float):\n",
    "            the x-value of the observation\n",
    "        y (float):\n",
    "            the y-value of the observation\n",
    "        \n",
    "        Returns\n",
    "        -------\n",
    "        The loss, (prediction-actual)^2 = (mx+b - y)**2\n",
    "        \"\"\"\n",
    "        return self.error(x, y)**2\n",
    "    \n",
    "    def predict(self, x):\n",
    "        \"\"\"\n",
    "        Accepts an x-value and returns the prediction, m*x + b\n",
    "        \n",
    "        Parameters\n",
    "        ----------\n",
    "        x (float):\n",
    "            the x-value whose y-value we want to predict\n",
    "        \n",
    "        Returns\n",
    "        -------\n",
    "        the prediction mx + b with the current values of m and b\n",
    "        \"\"\"\n",
    "        return self.m*x + self.b\n",
    "    \n",
    "    def rmse(self, xlist, ylist):\n",
    "        \"\"\"\n",
    "        Computes the rmse for the data passed.\n",
    "        \n",
    "        Parameters\n",
    "        ----------\n",
    "        xlist (array-like):\n",
    "            an array containing the x-values\n",
    "        ylist (array-like):\n",
    "            an array c\n",
    "        \"\"\"\n",
    "        return math.sqrt(sum(list(self.loss(x,y) for x,y in zip(xlist, ylist)))) / len(xlist)\n",
    "    \n",
    "    \n",
    "    \n",
    "    def step(self, m_step, b_step):\n",
    "        \"\"\"\n",
    "        Accepts a step for m and b, and adds those to their counterparts.\n",
    "        \n",
    "        Parameters\n",
    "        ----------\n",
    "        m_step (float):\n",
    "            the amount to step along the m-axis\n",
    "        b_step (float):\n",
    "            the amount to step along the b-axis\n",
    "        \n",
    "        Returns\n",
    "        -------\n",
    "        None\n",
    "        \"\"\"\n",
    "        self.m += m_step\n",
    "        self.b += b_step\n",
    "    \n",
    "    def update_history(self, x=None, y=None, epoch=0, message=None, only_message=False):\n",
    "        \"\"\"\n",
    "        Updates the object's history dictionary with a variety of possible values.\n",
    "        \n",
    "        Parameters\n",
    "        ----------\n",
    "        x (float):\n",
    "            The x-value where the model will be evaluated\n",
    "            Default: None\n",
    "        y (float):\n",
    "            The y-value where the model will be evaluated\n",
    "            Default: None\n",
    "        epoch (int):\n",
    "            The current epoch during training.\n",
    "            Default: 0\n",
    "        message (str):\n",
    "            A message to be added to history (e.g. for batch descent where there is \n",
    "                no point)\n",
    "            Default: \n",
    "        only_message(bool):\n",
    "            If True, only the message is added to history.\n",
    "            Default: False\n",
    "        \n",
    "        Returns\n",
    "        -------\n",
    "        None\n",
    "        \"\"\"\n",
    "        self.history.append({'m':self.m, \n",
    "                            'b':self.b, \n",
    "                            'observation':(x,y),\n",
    "                            'prediction':self.predict(x),\n",
    "                            'error':self.error(x,y),\n",
    "                            'loss':self.loss(x,y),\n",
    "                            'epoch':epoch,\n",
    "                            'message':message})\n",
    "    \n",
    "    def __str__(self):\n",
    "        \"\"\"\n",
    "        Returns a string containing the equation of the regression line.\n",
    "        \n",
    "        Returns\n",
    "        -------\n",
    "        A formatted linear equation.\n",
    "        \"\"\"\n",
    "        return 'y = {:.3f}x + {:.3f}'.format(self.m, self.b)"
   ]
  },
  {
   "cell_type": "markdown",
   "metadata": {},
   "source": [
    "Let's also go ahead and write functions for shuffling and splitting our data, while we're at it."
   ]
  },
  {
   "cell_type": "code",
   "execution_count": 4,
   "metadata": {},
   "outputs": [],
   "source": [
    "import random\n",
    "\n",
    "def shuffle_data(list1, list2, seed=0):\n",
    "    \"\"\"\n",
    "    Shuffle two lists of the same length with the same new order.\n",
    "    Zips the lists together, to create a list of tuples, then shuffles the list of tuples. \n",
    "    Splits the shuffled list of tuples back into individual tuples, then zips the coordinates\n",
    "    back into separate lists.\n",
    "    \n",
    "    Parameters\n",
    "    ----------\n",
    "    list1 (list-like):\n",
    "        a list of values to shuffle\n",
    "    list2 (list-like):\n",
    "        a list of values to shuffle\n",
    "    \n",
    "    Returns\n",
    "    -------\n",
    "    Two lists, shuffled in the same way.\n",
    "    \"\"\"\n",
    "    # z\n",
    "    zipped = list(zip(list1, list2))\n",
    "    random.seed(seed)\n",
    "    random.shuffle(zipped)\n",
    "    return list(zip(*zipped))\n",
    "\n",
    "def train_test_split(x, y, test_size=0.2, seed=0):\n",
    "    \"\"\"\n",
    "    Splits data into training and test sets.\n",
    "    Shuffles the data, then takes the first (100 * test_size)% items as test data and\n",
    "    the remaining items as training data.\n",
    "    \n",
    "    Parameters\n",
    "    ----------\n",
    "    x (array-like):\n",
    "        The x-values of the data points\n",
    "    y (array-like):\n",
    "        The y-values of the data points\n",
    "    test_size (float):\n",
    "        Proportion of values to include in the test set.\n",
    "        Default: 0.2\n",
    "    seed (int):\n",
    "        A seed for the random class.\n",
    "        Default: 0\n",
    "        \n",
    "    Returns\n",
    "    -------\n",
    "    x_train, x_test, y_train, y_test\n",
    "    \"\"\"\n",
    "    break_index = int(0.2 * len(x))\n",
    "    shuffled_x, shuffled_y = shuffle_data(x, y, seed)\n",
    "    return shuffled_x[break_index:], shuffled_x[:break_index], shuffled_y[break_index:], shuffled_y[:break_index]"
   ]
  },
  {
   "cell_type": "markdown",
   "metadata": {},
   "source": [
    "Okay! Now that we've got a class to make things readable, we can jump into Stochastic Gradient Descent (SGD)."
   ]
  },
  {
   "cell_type": "code",
   "execution_count": 72,
   "metadata": {
    "scrolled": false
   },
   "outputs": [
    {
     "name": "stderr",
     "output_type": "stream",
     "text": [
      "  0%|          | 0/100 [00:00<?, ?it/s]"
     ]
    },
    {
     "name": "stdout",
     "output_type": "stream",
     "text": [
      "Returning model early due to explosion.\n",
      "Model: y = 2129540374733057965131681914694300327389372243695572421081896632310351398284587934267594552433602270131232797348558719906285696110154186996030684098723840.000x + 281985276213158382110789551250111840908527506144309150450958069157586309145519842272640307126365618851778003250914139217202912912688770295525995089756160.000\n"
     ]
    },
    {
     "name": "stderr",
     "output_type": "stream",
     "text": [
      "\n"
     ]
    }
   ],
   "source": [
    "import tqdm\n",
    "from linear_model import LinearModel\n",
    "\n",
    "def stochastic_gradient_descent(x_values=None, \n",
    "                                y_values=None, \n",
    "                                num_epochs=10, \n",
    "                                learning_rate=0.001, \n",
    "                                initial_m=None,\n",
    "                                initial_b=None,\n",
    "                                true_m=-1,\n",
    "                                true_b=1,\n",
    "                                threshold_m=1,\n",
    "                                threshold_b=1,\n",
    "                                seed=None):\n",
    "    \"\"\"\n",
    "    Implements SGD for linear regression on the dataset. Returns a LinearModel object\n",
    "    that has exploded, converged, or trained for the expected amount of time.\n",
    "    \n",
    "    Parameters\n",
    "    ----------\n",
    "    x_values (array-like):\n",
    "        An array of x-values\n",
    "    y_values (array-like):\n",
    "        An array of y-values\n",
    "    num_epochs (int): \n",
    "        The number of times to expose the model to the dataset.\n",
    "        Default: 10\n",
    "    learning_rate (float):\n",
    "        A factor to scale the gradient in the right direction.\n",
    "        Default: 0.001\n",
    "    initial_m (float):\n",
    "        An initial value for the slope, before training.\n",
    "    initial_b (float):\n",
    "        An initial value for the intercept, before training.\n",
    "    true_m (float):\n",
    "        The true slope of the data.\n",
    "        Default: -1 (for data.csv)\n",
    "    true_b (float):\n",
    "        The true intercept of the data.\n",
    "        Default: 10 (for data.csv)\n",
    "    seed (int):\n",
    "        A seed for the random function. If no seed is provided, no seed is used.\n",
    "    \n",
    "    Returns\n",
    "    -------\n",
    "    A fitted LinearModel object, for better or worse.\n",
    "    \"\"\"\n",
    "       \n",
    "    if seed:\n",
    "        random.seed(seed)\n",
    "    model = LinearModel(initial_m, initial_b)\n",
    "    \n",
    "    try:\n",
    "        for epoch in tqdm.trange(1, num_epochs+1):\n",
    "            # shuffle the observations for this epoch (so model encounters points randomly)\n",
    "            x_shuff, y_shuff = shuffle_data(x_values, y_values)\n",
    "        \n",
    "\n",
    "            # iterate over the entire shuffled dataset\n",
    "            for x, y in zip(x_shuff, y_shuff):\n",
    "                # compute the gradient for this observation\n",
    "                m_gradient, b_gradient = model.gradient(x,y)\n",
    "\n",
    "                # update the model by stepping in the negative direction of the gradient\n",
    "                # stepsize is -gradient * learning_rate (negative is for descent)\n",
    "                model.step(-learning_rate*m_gradient, -learning_rate*b_gradient)\n",
    "                \n",
    "                model.update_history(x,y)\n",
    "\n",
    "                # the model has converged\n",
    "                if abs(model.m - true_m) < threshold_m and abs(model.b - true_b) < threshold_b:\n",
    "                    print('Returning model early due to convergence.')\n",
    "                    return model\n",
    "    except OverflowError:\n",
    "        print('Returning model early due to explosion.')\n",
    "        return model\n",
    "    \n",
    "    print('Model did not converge or explode. Finished training.')\n",
    "    return model\n",
    "        \n",
    "x, y = load_data()\n",
    "x_train, x_test, y_train, y_test = train_test_split(x, y)\n",
    "model = stochastic_gradient_descent(num_epochs=100,\n",
    "                                    learning_rate=.1,\n",
    "                                    x_values=x_train, \n",
    "                                    y_values=y_train, \n",
    "                                    initial_m=1, \n",
    "                                    initial_b=1,\n",
    "                                    true_m=-1,\n",
    "                                    true_b=10,\n",
    "                                    threshold_m=0.01,\n",
    "                                    threshold_b=0.1,\n",
    "                                    seed=0)\n",
    "\n",
    "print('Model:', model)"
   ]
  },
  {
   "cell_type": "code",
   "execution_count": 73,
   "metadata": {},
   "outputs": [
    {
     "data": {
      "image/png": "[encoded data removed]",
      "text/plain": [
       "<Figure size 648x648 with 1 Axes>"
      ]
     },
     "metadata": {
      "needs_background": "light"
     },
     "output_type": "display_data"
    }
   ],
   "source": [
    "import tqdm\n",
    "import matplotlib.pyplot as plt\n",
    "\n",
    "def plot_history(model):\n",
    "    ms = [step['m'] for step in model.history]\n",
    "    bs = [step['b'] for step in model.history]\n",
    "\n",
    "    plt.figure(figsize=(9,9))\n",
    "    plt.scatter([ms[0], ms[-1]], [bs[0], bs[-1]], c=['blue', 'orange'])\n",
    "    plt.plot(ms, bs);\n",
    "    plt.xlabel('slope')\n",
    "    plt.ylabel('intercept')\n",
    "    plt.title('Parameter History');\n",
    "    \n",
    "plot_history(model)"
   ]
  },
  {
   "cell_type": "code",
   "execution_count": 74,
   "metadata": {},
   "outputs": [
    {
     "data": {
      "text/plain": [
       "723"
      ]
     },
     "execution_count": 74,
     "metadata": {},
     "output_type": "execute_result"
    }
   ],
   "source": [
    "len(model.history)"
   ]
  },
  {
   "cell_type": "code",
   "execution_count": 75,
   "metadata": {},
   "outputs": [
    {
     "data": {
      "text/plain": [
       "200"
      ]
     },
     "execution_count": 75,
     "metadata": {},
     "output_type": "execute_result"
    }
   ],
   "source": [
    "len(x_test)"
   ]
  },
  {
   "cell_type": "markdown",
   "metadata": {},
   "source": [
    "This raises the question: Why does the gradient explode like this?\n",
    "\n",
    "To answer this question, let's examine the points we encounter before the values of these parameters go off the chart, then step through the calculations to see where we went wrong."
   ]
  },
  {
   "cell_type": "code",
   "execution_count": 86,
   "metadata": {},
   "outputs": [
    {
     "data": {
      "text/plain": [
       "<matplotlib.legend.Legend at 0x12b77f990>"
      ]
     },
     "execution_count": 86,
     "metadata": {},
     "output_type": "execute_result"
    },
    {
     "data": {
      "image/png": "[encoded data removed]",
      "text/plain": [
       "<Figure size 1152x648 with 1 Axes>"
      ]
     },
     "metadata": {
      "needs_background": "light"
     },
     "output_type": "display_data"
    }
   ],
   "source": [
    "points_evaluated = [obs['observation'] for obs in model.history]\n",
    "xs = [p[0] for p in points_evaluated]\n",
    "ys = [p[1] for p in points_evaluated]\n",
    "\n",
    "next_x = x_train[len(xs)]\n",
    "next_y = y_train[len(ys)]\n",
    "\n",
    "plt.figure(figsize=(16,9))\n",
    "plt.scatter(xs, ys, s=1)\n",
    "plt.scatter([xs[-1]], [ys[-1]], c='orange', s=100)\n",
    "plt.scatter([next_x], [next_y], c='red', s=100);\n",
    "plt.legend(['Okay data', 'Final point before explosion', 'Point that caused explosion'])"
   ]
  },
  {
   "cell_type": "code",
   "execution_count": 45,
   "metadata": {},
   "outputs": [
    {
     "name": "stderr",
     "output_type": "stream",
     "text": [
      " 39%|███▉      | 392/1000 [00:01<00:02, 220.25it/s]\n"
     ]
    },
    {
     "name": "stdout",
     "output_type": "stream",
     "text": [
      "Returning model early due to explosion.\n",
      "y = 1983460044143932903188201589697410216439254431351906571633363866266737430018483345174755783891064298267078491026444317544724931423859008900971434514317312.000x + 296529782452845290810000553292315652137000591720758675880863004057699841058018695569310246780659594662123846049388086555820545276892743268226836474101760.000\n"
     ]
    }
   ],
   "source": [
    "from linear_model import LinearModel\n",
    "import tqdm\n",
    "\n",
    "def batch_gradient_descent(x_values=None, \n",
    "                           y_values=None,\n",
    "                           num_epochs=10, \n",
    "                           learning_rate=0.001, \n",
    "                           initial_m=None,\n",
    "                           initial_b=None,\n",
    "                           true_m=-1, true_b=10, \n",
    "                           threshold_m=1,\n",
    "                           threshold_b=1,\n",
    "                           seed=None):\n",
    "    \"\"\"\n",
    "    Implements batch gradient descent for linear regression on the dataset. Returns a \n",
    "    LinearModel object that has exploded, converged, or trained for the expected amount \n",
    "    of time.\n",
    "    \n",
    "    Parameters\n",
    "    ----------\n",
    "    x_values (array-like):\n",
    "        An array of x-values\n",
    "    y_values (array-like):\n",
    "        An array of y-values\n",
    "    num_epochs (int): \n",
    "        The number of times to expose the model to the dataset.\n",
    "        Default: 10\n",
    "    learning_rate (float):\n",
    "        A factor to scale the gradient in the right direction.\n",
    "        Default: 0.001\n",
    "    initial_m (float):\n",
    "        An initial value for the slope, before training.\n",
    "    initial_b (float):\n",
    "        An initial value for the intercept, before training.\n",
    "    true_m (float):\n",
    "        The true slope of the data.\n",
    "        Default: -1 (for data.csv)\n",
    "    true_b (float):\n",
    "        The true intercept of the data.\n",
    "        Default: 10 (for data.csv)\n",
    "    seed (int):\n",
    "        A seed for the random function. If no seed is provided, no seed is used.\n",
    "    \n",
    "    Returns\n",
    "    -------\n",
    "    A fitted LinearModel object, for better or worse.\n",
    "    \"\"\"\n",
    "    \n",
    "    if seed:\n",
    "        random.seed(seed)\n",
    "\n",
    "    model = LinearModel(initial_m, initial_b)\n",
    "\n",
    "    try:\n",
    "        # iterate over the entire dataset a specific number of times\n",
    "        for epoch in tqdm.trange(1, num_epochs + 1):\n",
    "            m_grad = 0\n",
    "            b_grad = 0\n",
    "\n",
    "            # since we're working with the mean gradient, we don't need to shuffle the\n",
    "            # points during training\n",
    "            for x, y in zip(x_values, y_values):\n",
    "                # compute the gradients for this point\n",
    "                m_grad += model.gradient(x, y)[0]\n",
    "                b_grad += model.gradient(x, y)[1]\n",
    "                \n",
    "                # update history\n",
    "                model.update_history(x, y, epoch)\n",
    "\n",
    "            # compute the mean gradients from the sum\n",
    "            m_grad /= len(x_values)\n",
    "            b_grad /= len(y_values)\n",
    "\n",
    "            # take our step in the right direction\n",
    "            model.step(-learning_rate * m_grad, -learning_rate * b_grad)\n",
    "            \n",
    "            # if we're close enough, stop\n",
    "            if abs(model.m - true_m) < threshold_m and abs(model.b - true_b) < threshold_b:\n",
    "                print('Returning model early due to convergence.')\n",
    "                return model\n",
    "    \n",
    "    # if the gradient explodes\n",
    "    except OverflowError:\n",
    "        print('Returning model early due to explosion.')\n",
    "        return model\n",
    "    \n",
    "    # otherwise, we made it to the end!\n",
    "    print('Model did not converge or explode. Finished training.')\n",
    "    return model\n",
    "\n",
    "x, y = load_data()\n",
    "x_train, x_test, y_train, y_test = train_test_split(x,y)\n",
    "model = batch_gradient_descent(num_epochs=1000,\n",
    "                               learning_rate=.1,\n",
    "                               x_values=x_train, \n",
    "                               y_values=y_train, \n",
    "                               initial_m=1, \n",
    "                               initial_b=1,\n",
    "                               true_m=-1,\n",
    "                               true_b=10,\n",
    "                               threshold_m=0.01,\n",
    "                               threshold_b=0.1,\n",
    "                               seed=0)\n",
    "print(model)"
   ]
  },
  {
   "cell_type": "code",
   "execution_count": 46,
   "metadata": {},
   "outputs": [
    {
     "data": {
      "image/png": "[encoded data removed]",
      "text/plain": [
       "<Figure size 432x288 with 1 Axes>"
      ]
     },
     "metadata": {
      "needs_background": "light"
     },
     "output_type": "display_data"
    }
   ],
   "source": [
    "import tqdm\n",
    "import matplotlib.pyplot as plt\n",
    "\n",
    "def plot_history(model):\n",
    "    ms = [step['m'] for step in model.history]\n",
    "    bs = [step['b'] for step in model.history]\n",
    "\n",
    "    plt.scatter([ms[0], ms[-1]], [bs[0], bs[-1]], c=['blue', 'orange'])\n",
    "    plt.plot(ms, bs);\n",
    "    plt.xlabel('slope')\n",
    "    plt.ylabel('intercept')\n",
    "    plt.title('Parameter History');"
   ]
  },
  {
   "cell_type": "code",
   "execution_count": 40,
   "metadata": {},
   "outputs": [],
   "source": [
    "m_subset = ms[::int(len(ms)/100)]\n",
    "b_subset = bs[::int(len(bs)/100)]"
   ]
  },
  {
   "cell_type": "code",
   "execution_count": 41,
   "metadata": {},
   "outputs": [
    {
     "data": {
      "text/plain": [
       "<matplotlib.collections.PathCollection at 0x234a61190>"
      ]
     },
     "execution_count": 41,
     "metadata": {},
     "output_type": "execute_result"
    },
    {
     "data": {
      "image/png": "[encoded data removed]",
      "text/plain": [
       "<Figure size 432x288 with 1 Axes>"
      ]
     },
     "metadata": {
      "needs_background": "light"
     },
     "output_type": "display_data"
    }
   ],
   "source": [
    "import matplotlib.pyplot as plt\n",
    "\n",
    "plt.scatter(m_subset, b_subset)"
   ]
  },
  {
   "cell_type": "code",
   "execution_count": 26,
   "metadata": {},
   "outputs": [
    {
     "data": {
      "text/plain": [
       "2.9078389860125475"
      ]
     },
     "execution_count": 26,
     "metadata": {},
     "output_type": "execute_result"
    }
   ],
   "source": []
  },
  {
   "cell_type": "code",
   "execution_count": 84,
   "metadata": {},
   "outputs": [
    {
     "name": "stderr",
     "output_type": "stream",
     "text": [
      "100%|██████████| 1000/1000 [00:05<00:00, 182.16it/s]\n"
     ]
    },
    {
     "name": "stdout",
     "output_type": "stream",
     "text": [
      "Model did not converge or explode. Finished training.\n",
      "y = 0.118x + 2.546\n"
     ]
    }
   ],
   "source": [
    "from linear_model import LinearModel\n",
    "import tqdm\n",
    "\n",
    "def minibatch_gradient_descent(x_values=None, \n",
    "                               y_values=None,\n",
    "                               batch_size=1,\n",
    "                               num_epochs=10, \n",
    "                               learning_rate=0.001, \n",
    "                               initial_m=None,\n",
    "                               initial_b=None,\n",
    "                               true_m=-1, true_b=10, \n",
    "                               threshold_m=1,\n",
    "                               threshold_b=1,\n",
    "                               seed=None):\n",
    "    \"\"\"\n",
    "    Implements minibatch gradient descent for linear regression on the dataset. Returns a \n",
    "    LinearModel object that has exploded, converged, or trained for the expected amount \n",
    "    of time.\n",
    "    \n",
    "    Parameters\n",
    "    ----------\n",
    "    x_values (array-like):\n",
    "        An array of x-values\n",
    "    y_values (array-like):\n",
    "        An array of y-values\n",
    "    batch_size (int):\n",
    "        The batch size to use.\n",
    "    num_epochs (int): \n",
    "        The number of times to expose the model to the dataset.\n",
    "        Default: 10\n",
    "    learning_rate (float):\n",
    "        A factor to scale the gradient in the right direction.\n",
    "        Default: 0.001\n",
    "    initial_m (float):\n",
    "        An initial value for the slope, before training.\n",
    "    initial_b (float):\n",
    "        An initial value for the intercept, before training.\n",
    "    true_m (float):\n",
    "        The true slope of the data.\n",
    "        Default: -1 (for data.csv)\n",
    "    true_b (float):\n",
    "        The true intercept of the data.\n",
    "        Default: 10 (for data.csv)\n",
    "    seed (int):\n",
    "        A seed for the random function. If no seed is provided, no seed is used.\n",
    "    \n",
    "    Returns\n",
    "    -------\n",
    "    A fitted LinearModel object, for better or worse.\n",
    "    \"\"\"\n",
    "    \n",
    "    if seed:\n",
    "        random.seed(seed)\n",
    "        \n",
    "    model = LinearModel(1,1)\n",
    "\n",
    "    try:\n",
    "        for epoch in tqdm.trange(1, num_epochs+1):\n",
    "            \n",
    "            # shuffle the data\n",
    "            x_shuff, y_shuff = shuffle_data(x_values, y_values)\n",
    "            \n",
    "            # zip it together once so we can use it in the loop\n",
    "            obs_shuff = list(zip(x_shuff, y_shuff))\n",
    "\n",
    "            index = 0\n",
    "\n",
    "            while index < len(x_shuff):\n",
    "                # set the gradients equal to zero\n",
    "                m_grad = 0\n",
    "                b_grad = 0\n",
    "\n",
    "                for x, y in obs_shuff[index:index+batch_size]:\n",
    "                    m_grad += model.gradient(x, y)[0]\n",
    "                    b_grad += model.gradient(x, y)[1]\n",
    "                    model.update_history(x,y)\n",
    "\n",
    "                m_grad /= min(batch_size, len(obs_shuff)-index)\n",
    "                b_grad /= min(batch_size, len(obs_shuff)-index)\n",
    "\n",
    "                model.step(-learning_rate * m_grad, -learning_rate * b_grad)\n",
    "                index += batch_size\n",
    "\n",
    "            # if we're close enough, stop\n",
    "            if abs(model.m - true_m) < threshold_m and abs(model.b - true_b) < threshold_b:\n",
    "                    print('Returning model early due to convergence.')\n",
    "                    return model\n",
    "    \n",
    "    # if the gradient explodes\n",
    "    except OverflowError:\n",
    "        print('Returning model early due to explosion.')\n",
    "        return model\n",
    "    \n",
    "    # otherwise, we made it to the end!\n",
    "    print('Model did not converge or explode. Finished training.')\n",
    "    return model\n",
    "    \n",
    "x, y = load_data()\n",
    "x_train, x_test, y_train, y_test = train_test_split(x,y)\n",
    "model = minibatch_gradient_descent(num_epochs=1000,\n",
    "                                   batch_size=100,\n",
    "                                   learning_rate=.0001,\n",
    "                                   x_values=x_train, \n",
    "                                   y_values=y_train, \n",
    "                                   initial_m=1, \n",
    "                                   initial_b=10,\n",
    "                                   true_m=-1,\n",
    "                                   true_b=10,\n",
    "                                   threshold_m=0.01,\n",
    "                                   threshold_b=0.1,\n",
    "                                   seed=0)\n",
    "print(model)"
   ]
  },
  {
   "cell_type": "code",
   "execution_count": 85,
   "metadata": {},
   "outputs": [
    {
     "data": {
      "image/png": "[encoded data removed]",
      "text/plain": [
       "<Figure size 1152x288 with 2 Axes>"
      ]
     },
     "metadata": {
      "needs_background": "light"
     },
     "output_type": "display_data"
    }
   ],
   "source": [
    "ms = [obs['m'] for obs in model.history]\n",
    "bs = [obs['b'] for obs in model.history]\n",
    "\n",
    "import matplotlib.pyplot as plt\n",
    "fig, (m_ax, b_ax) = plt.subplots(1,2, figsize=(16,4))\n",
    "m_ax.plot(ms)\n",
    "m_ax.set_title(\"slope\")\n",
    "b_ax.plot(bs)\n",
    "b_ax.set_title(\"intercept\")\n",
    "plt.show()"
   ]
  },
  {
   "cell_type": "code",
   "execution_count": null,
   "metadata": {},
   "outputs": [],
   "source": []
  }
 ],
 "metadata": {
  "kernelspec": {
   "display_name": "Python 3",
   "language": "python",
   "name": "python3"
  },
  "language_info": {
   "codemirror_mode": {
    "name": "ipython",
    "version": 3
   },
   "file_extension": ".py",
   "mimetype": "text/x-python",
   "name": "python",
   "nbconvert_exporter": "python",
   "pygments_lexer": "ipython3",
   "version": "3.7.6"
  }
 },
 "nbformat": 4,
 "nbformat_minor": 4
}
